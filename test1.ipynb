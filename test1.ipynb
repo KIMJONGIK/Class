{
  "nbformat": 4,
  "nbformat_minor": 0,
  "metadata": {
    "colab": {
      "provenance": [],
      "mount_file_id": "1A2v03jhdi2ohf7cjV7nE050CpQdnkI3x",
      "authorship_tag": "ABX9TyPTRGoluq+jNmVfagQbsVuD",
      "include_colab_link": true
    },
    "kernelspec": {
      "name": "python3",
      "display_name": "Python 3"
    },
    "language_info": {
      "name": "python"
    }
  },
  "cells": [
    {
      "cell_type": "markdown",
      "metadata": {
        "id": "view-in-github",
        "colab_type": "text"
      },
      "source": [
        "<a href=\"https://colab.research.google.com/github/KIMJONGIK/Class/blob/main/test1.ipynb\" target=\"_parent\"><img src=\"https://colab.research.google.com/assets/colab-badge.svg\" alt=\"Open In Colab\"/></a>"
      ]
    },
    {
      "cell_type": "markdown",
      "source": [
        "# 제목\n",
        "연습\n",
        "\n",
        "$ \\sum_{i=1}^{n}{i^2} $"
      ],
      "metadata": {
        "id": "yZ01ygDHOAbC"
      }
    },
    {
      "cell_type": "code",
      "source": [],
      "metadata": {
        "id": "wS9ruuz6PJ4H"
      },
      "execution_count": null,
      "outputs": []
    },
    {
      "cell_type": "code",
      "execution_count": null,
      "metadata": {
        "id": "qdbvi7rrCr_8"
      },
      "outputs": [],
      "source": []
    }
  ]
}